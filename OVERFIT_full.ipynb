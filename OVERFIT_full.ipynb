{
  "nbformat": 4,
  "nbformat_minor": 0,
  "metadata": {
    "colab": {
      "provenance": [],
      "authorship_tag": "ABX9TyO2Qw9VuXjzZ4ga3DHu0kOh",
      "include_colab_link": true
    },
    "kernelspec": {
      "name": "python3",
      "display_name": "Python 3"
    },
    "language_info": {
      "name": "python"
    }
  },
  "cells": [
    {
      "cell_type": "markdown",
      "metadata": {
        "id": "view-in-github",
        "colab_type": "text"
      },
      "source": [
        "<a href=\"https://colab.research.google.com/github/albim72/__DEEP_03/blob/main/OVERFIT_full.ipynb\" target=\"_parent\"><img src=\"https://colab.research.google.com/assets/colab-badge.svg\" alt=\"Open In Colab\"/></a>"
      ]
    },
    {
      "cell_type": "code",
      "execution_count": 1,
      "metadata": {
        "id": "L-cdklh5L-yV"
      },
      "outputs": [],
      "source": [
        "import tensorflow as tf\n",
        "from tensorflow.keras import layers\n",
        "from tensorflow.keras import regularizers"
      ]
    },
    {
      "cell_type": "code",
      "source": [
        "!pip install git+https://github.com/tensorflow/docs"
      ],
      "metadata": {
        "colab": {
          "base_uri": "https://localhost:8080/"
        },
        "id": "nwrILOQmMgC5",
        "outputId": "8e253b86-412d-445c-a480-822e4bd6d6d0"
      },
      "execution_count": 2,
      "outputs": [
        {
          "output_type": "stream",
          "name": "stdout",
          "text": [
            "Looking in indexes: https://pypi.org/simple, https://us-python.pkg.dev/colab-wheels/public/simple/\n",
            "Collecting git+https://github.com/tensorflow/docs\n",
            "  Cloning https://github.com/tensorflow/docs to /tmp/pip-req-build-8505x9ez\n",
            "  Running command git clone --filter=blob:none --quiet https://github.com/tensorflow/docs /tmp/pip-req-build-8505x9ez\n",
            "  Resolved https://github.com/tensorflow/docs to commit 39ff245f63086d506b803177806d60c293488819\n",
            "  Preparing metadata (setup.py) ... \u001b[?25l\u001b[?25hdone\n",
            "Collecting astor\n",
            "  Downloading astor-0.8.1-py2.py3-none-any.whl (27 kB)\n",
            "Requirement already satisfied: absl-py in /usr/local/lib/python3.9/dist-packages (from tensorflow-docs==0.0.0.dev0) (1.4.0)\n",
            "Requirement already satisfied: jinja2 in /usr/local/lib/python3.9/dist-packages (from tensorflow-docs==0.0.0.dev0) (3.1.2)\n",
            "Requirement already satisfied: nbformat in /usr/local/lib/python3.9/dist-packages (from tensorflow-docs==0.0.0.dev0) (5.7.3)\n",
            "Requirement already satisfied: protobuf in /usr/local/lib/python3.9/dist-packages (from tensorflow-docs==0.0.0.dev0) (3.19.6)\n",
            "Requirement already satisfied: pyyaml in /usr/local/lib/python3.9/dist-packages (from tensorflow-docs==0.0.0.dev0) (6.0)\n",
            "Requirement already satisfied: MarkupSafe>=2.0 in /usr/local/lib/python3.9/dist-packages (from jinja2->tensorflow-docs==0.0.0.dev0) (2.1.2)\n",
            "Requirement already satisfied: fastjsonschema in /usr/local/lib/python3.9/dist-packages (from nbformat->tensorflow-docs==0.0.0.dev0) (2.16.3)\n",
            "Requirement already satisfied: traitlets>=5.1 in /usr/local/lib/python3.9/dist-packages (from nbformat->tensorflow-docs==0.0.0.dev0) (5.7.1)\n",
            "Requirement already satisfied: jsonschema>=2.6 in /usr/local/lib/python3.9/dist-packages (from nbformat->tensorflow-docs==0.0.0.dev0) (4.3.3)\n",
            "Requirement already satisfied: jupyter-core in /usr/local/lib/python3.9/dist-packages (from nbformat->tensorflow-docs==0.0.0.dev0) (5.2.0)\n",
            "Requirement already satisfied: pyrsistent!=0.17.0,!=0.17.1,!=0.17.2,>=0.14.0 in /usr/local/lib/python3.9/dist-packages (from jsonschema>=2.6->nbformat->tensorflow-docs==0.0.0.dev0) (0.19.3)\n",
            "Requirement already satisfied: attrs>=17.4.0 in /usr/local/lib/python3.9/dist-packages (from jsonschema>=2.6->nbformat->tensorflow-docs==0.0.0.dev0) (22.2.0)\n",
            "Requirement already satisfied: platformdirs>=2.5 in /usr/local/lib/python3.9/dist-packages (from jupyter-core->nbformat->tensorflow-docs==0.0.0.dev0) (3.1.1)\n",
            "Building wheels for collected packages: tensorflow-docs\n",
            "  Building wheel for tensorflow-docs (setup.py) ... \u001b[?25l\u001b[?25hdone\n",
            "  Created wheel for tensorflow-docs: filename=tensorflow_docs-0.0.0.dev0-py3-none-any.whl size=179186 sha256=a30f73a65c6f6ffeaae0f3a2f52f17beab5b57a454c7e618ff771dc6a8547520\n",
            "  Stored in directory: /tmp/pip-ephem-wheel-cache-31bgj198/wheels/fc/f8/3b/5d21409a59cb1be9b1ade11f682039ced75b84de9dd6a0c8de\n",
            "Successfully built tensorflow-docs\n",
            "Installing collected packages: astor, tensorflow-docs\n",
            "Successfully installed astor-0.8.1 tensorflow-docs-0.0.0.dev0\n"
          ]
        }
      ]
    },
    {
      "cell_type": "code",
      "source": [
        "import tensorflow_docs as tfdocs\n",
        "import tensorflow_docs.modeling\n",
        "import tensorflow_docs.plots"
      ],
      "metadata": {
        "id": "CF6-75aqM6Js"
      },
      "execution_count": 3,
      "outputs": []
    },
    {
      "cell_type": "code",
      "source": [
        "from IPython import display\n",
        "from matplotlib import pyplot as plt\n",
        "import numpy as np\n",
        "import pathlib\n",
        "import tempfile\n",
        "import shutil"
      ],
      "metadata": {
        "id": "N20n3PTINJVt"
      },
      "execution_count": 8,
      "outputs": []
    },
    {
      "cell_type": "code",
      "source": [
        "logdir = pathlib.Path(tempfile.mkdtemp())/\"tensorboard_logs\"\n",
        "shutil.rmtree(logdir,ignore_errors=True)"
      ],
      "metadata": {
        "id": "T_MMqEJbNjcL"
      },
      "execution_count": 10,
      "outputs": []
    },
    {
      "cell_type": "code",
      "source": [
        "#zbiór danych Higgsa\n",
        "\n",
        "gz = tf.keras.utils.get_file('HIGGS.csv.gz','http://mlphysics.ics.uci.edu/data/higgs/HIGGS.csv.gz')"
      ],
      "metadata": {
        "colab": {
          "base_uri": "https://localhost:8080/"
        },
        "id": "lhvXgNn-OnlT",
        "outputId": "d45d282b-c10e-4df6-9064-e860f5ae9410"
      },
      "execution_count": 11,
      "outputs": [
        {
          "output_type": "stream",
          "name": "stdout",
          "text": [
            "Downloading data from http://mlphysics.ics.uci.edu/data/higgs/HIGGS.csv.gz\n",
            "2816407858/2816407858 [==============================] - 65s 0us/step\n"
          ]
        }
      ]
    },
    {
      "cell_type": "code",
      "source": [
        "FEATURES = 28"
      ],
      "metadata": {
        "id": "NLS1unZnQO0p"
      },
      "execution_count": 12,
      "outputs": []
    },
    {
      "cell_type": "code",
      "source": [
        "ds = tf.data.experimental.CsvDataset(gz,[float(),]*(FEATURES+1),compression_type=\"GZIP\")"
      ],
      "metadata": {
        "id": "COROE-UcQUZv"
      },
      "execution_count": 13,
      "outputs": []
    },
    {
      "cell_type": "code",
      "source": [
        "def pack_row(*row):\n",
        "  label = row[0]\n",
        "  features = tf.stack(row[1:],1)\n",
        "  return features,label"
      ],
      "metadata": {
        "id": "PApedUVzQoEe"
      },
      "execution_count": 14,
      "outputs": []
    },
    {
      "cell_type": "code",
      "source": [
        "packed_ds = ds.batch(10000).map(pack_row).unbatch()"
      ],
      "metadata": {
        "id": "kUFIaVQ4RCqx"
      },
      "execution_count": 15,
      "outputs": []
    },
    {
      "cell_type": "code",
      "source": [
        "for features,label in packed_ds.batch(1000).take(1):\n",
        "  print(features[0])\n",
        "  plt.hist(features.numpy().flatten(),bins=101)"
      ],
      "metadata": {
        "colab": {
          "base_uri": "https://localhost:8080/",
          "height": 376
        },
        "id": "lYDW4QKvRd5b",
        "outputId": "c0f1f87f-3a36-41e9-c1a7-7499a76d37a8"
      },
      "execution_count": 16,
      "outputs": [
        {
          "output_type": "stream",
          "name": "stdout",
          "text": [
            "tf.Tensor(\n",
            "[ 0.8692932  -0.6350818   0.22569026  0.32747006 -0.6899932   0.75420225\n",
            " -0.24857314 -1.0920639   0.          1.3749921  -0.6536742   0.9303491\n",
            "  1.1074361   1.1389043  -1.5781983  -1.0469854   0.          0.65792954\n",
            " -0.01045457 -0.04576717  3.1019614   1.35376     0.9795631   0.97807616\n",
            "  0.92000484  0.72165745  0.98875093  0.87667835], shape=(28,), dtype=float32)\n"
          ]
        },
        {
          "output_type": "display_data",
          "data": {
            "text/plain": [
              "<Figure size 432x288 with 1 Axes>"
            ],
            "image/png": "[encoded data removed]"
          },
          "metadata": {
            "needs_background": "light"
          }
        }
      ]
    },
    {
      "cell_type": "code",
      "source": [
        "N_VALIDATION = int(1e3)\n",
        "N_TRAIN = int(1e4)\n",
        "BUFFER_SIZE = int(1e4)\n",
        "BATCH_SIZE = 500\n",
        "STEPS_PER_EPOCH = N_TRAIN/BATCH_SIZE"
      ],
      "metadata": {
        "id": "KjZEVSnASCDM"
      },
      "execution_count": 17,
      "outputs": []
    },
    {
      "cell_type": "code",
      "source": [
        "validate_ds = packed_ds.take(N_VALIDATION).cache()\n",
        "train_ds = packed_ds.skip(N_VALIDATION).take(N_TRAIN).cache()"
      ],
      "metadata": {
        "id": "P5t9bk7YSiMv"
      },
      "execution_count": 18,
      "outputs": []
    },
    {
      "cell_type": "code",
      "source": [
        "train_ds"
      ],
      "metadata": {
        "colab": {
          "base_uri": "https://localhost:8080/"
        },
        "id": "zygWjGlKS-9f",
        "outputId": "1894de33-fe60-47ab-8417-6b103cab3ad2"
      },
      "execution_count": 19,
      "outputs": [
        {
          "output_type": "execute_result",
          "data": {
            "text/plain": [
              "<CacheDataset element_spec=(TensorSpec(shape=(28,), dtype=tf.float32, name=None), TensorSpec(shape=(), dtype=tf.float32, name=None))>"
            ]
          },
          "metadata": {},
          "execution_count": 19
        }
      ]
    },
    {
      "cell_type": "code",
      "source": [
        "validate_ds = validate_ds.batch(BATCH_SIZE)\n",
        "train_ds = train_ds.shuffle(BUFFER_SIZE).repeat().batch(BATCH_SIZE)"
      ],
      "metadata": {
        "id": "pOdtDmZsTIbK"
      },
      "execution_count": 20,
      "outputs": []
    },
    {
      "cell_type": "code",
      "source": [
        "lr_schedule = tf.keras.optimizers.schedules.InverseTimeDecay(\n",
        "  0.001,\n",
        "  decay_steps=STEPS_PER_EPOCH*1000,\n",
        "  decay_rate=1,\n",
        "  staircase=False)\n",
        "\n",
        "def get_optimizer():\n",
        "  return tf.keras.optimizers.Adam(lr_schedule)"
      ],
      "metadata": {
        "id": "jW1-Ah_MUaEd"
      },
      "execution_count": 21,
      "outputs": []
    },
    {
      "cell_type": "code",
      "source": [
        "step = np.linspace(0,100000)\n",
        "lr = lr_schedule(step)\n",
        "plt.figure(figsize = (8,6))\n",
        "plt.plot(step/STEPS_PER_EPOCH, lr)\n",
        "plt.ylim([0,max(plt.ylim())])\n",
        "plt.xlabel('Epoch')\n",
        "_ = plt.ylabel('Learning Rate')"
      ],
      "metadata": {
        "colab": {
          "base_uri": "https://localhost:8080/",
          "height": 388
        },
        "id": "HtAnn7SRUtNV",
        "outputId": "83bbf3d9-1cf0-456c-e72b-aab2829d2186"
      },
      "execution_count": 22,
      "outputs": [
        {
          "output_type": "display_data",
          "data": {
            "text/plain": [
              "<Figure size 576x432 with 1 Axes>"
            ],
            "image/png": "[encoded data removed]"
          },
          "metadata": {
            "needs_background": "light"
          }
        }
      ]
    },
    {
      "cell_type": "code",
      "source": [
        "\n",
        "def get_callbacks(name):\n",
        "  return [\n",
        "    tfdocs.modeling.EpochDots(),\n",
        "    tf.keras.callbacks.EarlyStopping(monitor='val_binary_crossentropy', patience=200),\n",
        "    tf.keras.callbacks.TensorBoard(logdir/name),\n",
        "  ]\n"
      ],
      "metadata": {
        "id": "hFrjh6a8VnM8"
      },
      "execution_count": 23,
      "outputs": []
    },
    {
      "cell_type": "code",
      "source": [
        "\n",
        "def compile_and_fit(model, name, optimizer=None, max_epochs=10000):\n",
        "  if optimizer is None:\n",
        "    optimizer = get_optimizer()\n",
        "  model.compile(optimizer=optimizer,\n",
        "                loss=tf.keras.losses.BinaryCrossentropy(from_logits=True),\n",
        "                metrics=[\n",
        "                  tf.keras.losses.BinaryCrossentropy(\n",
        "                      from_logits=True, name='binary_crossentropy'),\n",
        "                  'accuracy'])\n",
        "\n",
        "  model.summary()\n",
        "\n",
        "  history = model.fit(\n",
        "    train_ds,\n",
        "    steps_per_epoch = STEPS_PER_EPOCH,\n",
        "    epochs=max_epochs,\n",
        "    validation_data=validate_ds,\n",
        "    callbacks=get_callbacks(name),\n",
        "    verbose=0)\n",
        "  return history"
      ],
      "metadata": {
        "id": "jNv9YdhpVuih"
      },
      "execution_count": 25,
      "outputs": []
    },
    {
      "cell_type": "code",
      "source": [
        "tiny_model = tf.keras.Sequential([\n",
        "    layers.Dense(16,activation='elu',input_shape=(FEATURES,)),\n",
        "    layers.Dense(1)\n",
        "])"
      ],
      "metadata": {
        "id": "Uwygwy6EWB8I"
      },
      "execution_count": 26,
      "outputs": []
    },
    {
      "cell_type": "code",
      "source": [
        "sizes_histories = {}"
      ],
      "metadata": {
        "id": "ZUw_n_tDWiyq"
      },
      "execution_count": 27,
      "outputs": []
    },
    {
      "cell_type": "code",
      "source": [
        "sizes_histories['Tiny'] = compile_and_fit(tiny_model,'sizes/Tiny')"
      ],
      "metadata": {
        "colab": {
          "base_uri": "https://localhost:8080/"
        },
        "id": "ySjlqTFWWn4u",
        "outputId": "5dc94cec-9a63-481b-bf27-b60642ecd61b"
      },
      "execution_count": 28,
      "outputs": [
        {
          "output_type": "stream",
          "name": "stdout",
          "text": [
            "Model: \"sequential\"\n",
            "_________________________________________________________________\n",
            " Layer (type)                Output Shape              Param #   \n",
            "=================================================================\n",
            " dense (Dense)               (None, 16)                464       \n",
            "                                                                 \n",
            " dense_1 (Dense)             (None, 1)                 17        \n",
            "                                                                 \n",
            "=================================================================\n",
            "Total params: 481\n",
            "Trainable params: 481\n",
            "Non-trainable params: 0\n",
            "_________________________________________________________________\n",
            "\n",
            "Epoch: 0, accuracy:0.5035,  binary_crossentropy:0.7974,  loss:0.7974,  val_accuracy:0.5050,  val_binary_crossentropy:0.7480,  val_loss:0.7480,  \n",
            "....................................................................................................\n",
            "Epoch: 100, accuracy:0.5877,  binary_crossentropy:0.6301,  loss:0.6301,  val_accuracy:0.5840,  val_binary_crossentropy:0.6301,  val_loss:0.6301,  \n",
            "....................................................................................................\n",
            "Epoch: 200, accuracy:0.6069,  binary_crossentropy:0.6210,  loss:0.6210,  val_accuracy:0.5820,  val_binary_crossentropy:0.6256,  val_loss:0.6256,  \n",
            "....................................................................................................\n",
            "Epoch: 300, accuracy:0.6129,  binary_crossentropy:0.6135,  loss:0.6135,  val_accuracy:0.6000,  val_binary_crossentropy:0.6200,  val_loss:0.6200,  \n",
            "....................................................................................................\n",
            "Epoch: 400, accuracy:0.6346,  binary_crossentropy:0.6059,  loss:0.6059,  val_accuracy:0.5910,  val_binary_crossentropy:0.6184,  val_loss:0.6184,  \n",
            "....................................................................................................\n",
            "Epoch: 500, accuracy:0.6438,  binary_crossentropy:0.6000,  loss:0.6000,  val_accuracy:0.6090,  val_binary_crossentropy:0.6087,  val_loss:0.6087,  \n",
            "....................................................................................................\n",
            "Epoch: 600, accuracy:0.6480,  binary_crossentropy:0.5961,  loss:0.5961,  val_accuracy:0.6150,  val_binary_crossentropy:0.6051,  val_loss:0.6051,  \n",
            "....................................................................................................\n",
            "Epoch: 700, accuracy:0.6576,  binary_crossentropy:0.5928,  loss:0.5928,  val_accuracy:0.6390,  val_binary_crossentropy:0.5982,  val_loss:0.5982,  \n",
            "....................................................................................................\n",
            "Epoch: 800, accuracy:0.6609,  binary_crossentropy:0.5889,  loss:0.5889,  val_accuracy:0.6390,  val_binary_crossentropy:0.5965,  val_loss:0.5965,  \n",
            "....................................................................................................\n",
            "Epoch: 900, accuracy:0.6641,  binary_crossentropy:0.5865,  loss:0.5865,  val_accuracy:0.6460,  val_binary_crossentropy:0.5939,  val_loss:0.5939,  \n",
            "....................................................................................................\n",
            "Epoch: 1000, accuracy:0.6598,  binary_crossentropy:0.5843,  loss:0.5843,  val_accuracy:0.6530,  val_binary_crossentropy:0.5916,  val_loss:0.5916,  \n",
            "....................................................................................................\n",
            "Epoch: 1100, accuracy:0.6693,  binary_crossentropy:0.5828,  loss:0.5828,  val_accuracy:0.6540,  val_binary_crossentropy:0.5904,  val_loss:0.5904,  \n",
            "....................................................................................................\n",
            "Epoch: 1200, accuracy:0.6617,  binary_crossentropy:0.5813,  loss:0.5813,  val_accuracy:0.6540,  val_binary_crossentropy:0.5889,  val_loss:0.5889,  \n",
            "....................................................................................................\n",
            "Epoch: 1300, accuracy:0.6705,  binary_crossentropy:0.5801,  loss:0.5801,  val_accuracy:0.6510,  val_binary_crossentropy:0.5896,  val_loss:0.5896,  \n",
            "....................................................................................................\n",
            "Epoch: 1400, accuracy:0.6771,  binary_crossentropy:0.5785,  loss:0.5785,  val_accuracy:0.6440,  val_binary_crossentropy:0.5900,  val_loss:0.5900,  \n",
            "....................................................................................................\n",
            "Epoch: 1500, accuracy:0.6757,  binary_crossentropy:0.5772,  loss:0.5772,  val_accuracy:0.6480,  val_binary_crossentropy:0.5888,  val_loss:0.5888,  \n",
            "....................................................................................................\n",
            "Epoch: 1600, accuracy:0.6775,  binary_crossentropy:0.5763,  loss:0.5763,  val_accuracy:0.6560,  val_binary_crossentropy:0.5882,  val_loss:0.5882,  \n",
            "....................................................................................................\n",
            "Epoch: 1700, accuracy:0.6721,  binary_crossentropy:0.5756,  loss:0.5756,  val_accuracy:0.6650,  val_binary_crossentropy:0.5868,  val_loss:0.5868,  \n",
            "....................................................................................................\n",
            "Epoch: 1800, accuracy:0.6776,  binary_crossentropy:0.5745,  loss:0.5745,  val_accuracy:0.6600,  val_binary_crossentropy:0.5876,  val_loss:0.5876,  \n",
            "....................................................................................................\n",
            "Epoch: 1900, accuracy:0.6794,  binary_crossentropy:0.5739,  loss:0.5739,  val_accuracy:0.6610,  val_binary_crossentropy:0.5871,  val_loss:0.5871,  \n",
            "........................................................................................."
          ]
        }
      ]
    },
    {
      "cell_type": "code",
      "source": [
        "plotter = tfdocs.plots.HistoryPlotter(metric = 'binary_crossentropy', smoothing_std=10)\n",
        "plotter.plot(sizes_histories)\n",
        "plt.ylim([0.5, 0.7])"
      ],
      "metadata": {
        "colab": {
          "base_uri": "https://localhost:8080/",
          "height": 302
        },
        "id": "gyWzlbkBXv4x",
        "outputId": "11ed8ae2-bf0a-416c-9f2f-bbefc57b94da"
      },
      "execution_count": 31,
      "outputs": [
        {
          "output_type": "execute_result",
          "data": {
            "text/plain": [
              "(0.5, 0.7)"
            ]
          },
          "metadata": {},
          "execution_count": 31
        },
        {
          "output_type": "display_data",
          "data": {
            "text/plain": [
              "<Figure size 432x288 with 1 Axes>"
            ],
            "image/png": "[encoded data removed]"
          },
          "metadata": {
            "needs_background": "light"
          }
        }
      ]
    },
    {
      "cell_type": "code",
      "source": [
        "#mały model\n",
        "\n",
        "small_model = tf.keras.Sequential([\n",
        "    # `input_shape` is only required here so that `.summary` works.\n",
        "    layers.Dense(16, activation='elu', input_shape=(FEATURES,)),\n",
        "    layers.Dense(16, activation='elu'),\n",
        "    layers.Dense(1)\n",
        "])\n",
        "\n",
        "sizes_histories['Small'] = compile_and_fit(small_model, 'sizes/Small')"
      ],
      "metadata": {
        "colab": {
          "base_uri": "https://localhost:8080/"
        },
        "id": "JOucOsJZYIGt",
        "outputId": "21758f80-17e9-470d-ce9e-8d146cf8a7e7"
      },
      "execution_count": 32,
      "outputs": [
        {
          "output_type": "stream",
          "name": "stdout",
          "text": [
            "Model: \"sequential_1\"\n",
            "_________________________________________________________________\n",
            " Layer (type)                Output Shape              Param #   \n",
            "=================================================================\n",
            " dense_2 (Dense)             (None, 16)                464       \n",
            "                                                                 \n",
            " dense_3 (Dense)             (None, 16)                272       \n",
            "                                                                 \n",
            " dense_4 (Dense)             (None, 1)                 17        \n",
            "                                                                 \n",
            "=================================================================\n",
            "Total params: 753\n",
            "Trainable params: 753\n",
            "Non-trainable params: 0\n",
            "_________________________________________________________________\n",
            "\n",
            "Epoch: 0, accuracy:0.4859,  binary_crossentropy:0.7258,  loss:0.7258,  val_accuracy:0.4550,  val_binary_crossentropy:0.7033,  val_loss:0.7033,  \n",
            "....................................................................................................\n",
            "Epoch: 100, accuracy:0.6373,  binary_crossentropy:0.6071,  loss:0.6071,  val_accuracy:0.6250,  val_binary_crossentropy:0.6099,  val_loss:0.6099,  \n",
            "....................................................................................................\n",
            "Epoch: 200, accuracy:0.6635,  binary_crossentropy:0.5879,  loss:0.5879,  val_accuracy:0.6450,  val_binary_crossentropy:0.5977,  val_loss:0.5977,  \n",
            "....................................................................................................\n",
            "Epoch: 300, accuracy:0.6732,  binary_crossentropy:0.5773,  loss:0.5773,  val_accuracy:0.6550,  val_binary_crossentropy:0.5920,  val_loss:0.5920,  \n",
            "....................................................................................................\n",
            "Epoch: 400, accuracy:0.6836,  binary_crossentropy:0.5701,  loss:0.5701,  val_accuracy:0.6590,  val_binary_crossentropy:0.5911,  val_loss:0.5911,  \n",
            "....................................................................................................\n",
            "Epoch: 500, accuracy:0.6894,  binary_crossentropy:0.5640,  loss:0.5640,  val_accuracy:0.6500,  val_binary_crossentropy:0.5967,  val_loss:0.5967,  \n",
            "........."
          ]
        }
      ]
    },
    {
      "cell_type": "code",
      "source": [
        "#sredni model\n",
        "\n",
        "medium_model = tf.keras.Sequential([\n",
        "    layers.Dense(64, activation='elu', input_shape=(FEATURES,)),\n",
        "    layers.Dense(64, activation='elu'),\n",
        "    layers.Dense(64, activation='elu'),\n",
        "    layers.Dense(1)\n",
        "])\n",
        "sizes_histories['Medium']  = compile_and_fit(medium_model, \"sizes/Medium\")"
      ],
      "metadata": {
        "colab": {
          "base_uri": "https://localhost:8080/"
        },
        "id": "RbzQbMlAYRct",
        "outputId": "77353d09-159d-45f1-d749-d309b748ffb2"
      },
      "execution_count": 33,
      "outputs": [
        {
          "output_type": "stream",
          "name": "stdout",
          "text": [
            "Model: \"sequential_2\"\n",
            "_________________________________________________________________\n",
            " Layer (type)                Output Shape              Param #   \n",
            "=================================================================\n",
            " dense_5 (Dense)             (None, 64)                1856      \n",
            "                                                                 \n",
            " dense_6 (Dense)             (None, 64)                4160      \n",
            "                                                                 \n",
            " dense_7 (Dense)             (None, 64)                4160      \n",
            "                                                                 \n",
            " dense_8 (Dense)             (None, 1)                 65        \n",
            "                                                                 \n",
            "=================================================================\n",
            "Total params: 10,241\n",
            "Trainable params: 10,241\n",
            "Non-trainable params: 0\n",
            "_________________________________________________________________\n",
            "\n",
            "Epoch: 0, accuracy:0.4947,  binary_crossentropy:0.6949,  loss:0.6949,  val_accuracy:0.4770,  val_binary_crossentropy:0.6815,  val_loss:0.6815,  \n",
            "....................................................................................................\n",
            "Epoch: 100, accuracy:0.7141,  binary_crossentropy:0.5334,  loss:0.5334,  val_accuracy:0.6610,  val_binary_crossentropy:0.6024,  val_loss:0.6024,  \n",
            "....................................................................................................\n",
            "Epoch: 200, accuracy:0.7756,  binary_crossentropy:0.4345,  loss:0.4345,  val_accuracy:0.6490,  val_binary_crossentropy:0.6787,  val_loss:0.6787,  \n",
            "............................................................"
          ]
        }
      ]
    },
    {
      "cell_type": "code",
      "source": [
        "#duzy model\n",
        "\n",
        "large_model = tf.keras.Sequential([\n",
        "    layers.Dense(512, activation='elu', input_shape=(FEATURES,)),\n",
        "    layers.Dense(512, activation='elu'),\n",
        "    layers.Dense(512, activation='elu'),\n",
        "    layers.Dense(512, activation='elu'),\n",
        "    layers.Dense(1)\n",
        "])\n",
        "\n",
        "sizes_histories['large'] = compile_and_fit(large_model, \"sizes/large\")"
      ],
      "metadata": {
        "colab": {
          "base_uri": "https://localhost:8080/"
        },
        "id": "6cls6hTYYUm3",
        "outputId": "8fb54412-7668-45e5-cc48-7266bc42b03f"
      },
      "execution_count": 34,
      "outputs": [
        {
          "output_type": "stream",
          "name": "stdout",
          "text": [
            "Model: \"sequential_3\"\n",
            "_________________________________________________________________\n",
            " Layer (type)                Output Shape              Param #   \n",
            "=================================================================\n",
            " dense_9 (Dense)             (None, 512)               14848     \n",
            "                                                                 \n",
            " dense_10 (Dense)            (None, 512)               262656    \n",
            "                                                                 \n",
            " dense_11 (Dense)            (None, 512)               262656    \n",
            "                                                                 \n",
            " dense_12 (Dense)            (None, 512)               262656    \n",
            "                                                                 \n",
            " dense_13 (Dense)            (None, 1)                 513       \n",
            "                                                                 \n",
            "=================================================================\n",
            "Total params: 803,329\n",
            "Trainable params: 803,329\n",
            "Non-trainable params: 0\n",
            "_________________________________________________________________\n",
            "\n",
            "Epoch: 0, accuracy:0.5235,  binary_crossentropy:0.7345,  loss:0.7345,  val_accuracy:0.5500,  val_binary_crossentropy:0.6668,  val_loss:0.6668,  \n",
            "....................................................................................................\n",
            "Epoch: 100, accuracy:1.0000,  binary_crossentropy:0.0017,  loss:0.0017,  val_accuracy:0.6640,  val_binary_crossentropy:1.8017,  val_loss:1.8017,  \n",
            "....................................................................................................\n",
            "Epoch: 200, accuracy:1.0000,  binary_crossentropy:0.0001,  loss:0.0001,  val_accuracy:0.6630,  val_binary_crossentropy:2.4113,  val_loss:2.4113,  \n",
            "................."
          ]
        }
      ]
    },
    {
      "cell_type": "code",
      "source": [
        "plotter.plot(sizes_histories)\n",
        "a = plt.xscale('log')\n",
        "plt.xlim([5, max(plt.xlim())])\n",
        "plt.ylim([0.5, 0.7])\n",
        "plt.xlabel(\"Epochs [Log Scale]\")"
      ],
      "metadata": {
        "colab": {
          "base_uri": "https://localhost:8080/",
          "height": 306
        },
        "id": "cKapOBTCYXok",
        "outputId": "65d354a5-c50c-4730-daed-acd4a25e7a33"
      },
      "execution_count": 35,
      "outputs": [
        {
          "output_type": "execute_result",
          "data": {
            "text/plain": [
              "Text(0.5, 0, 'Epochs [Log Scale]')"
            ]
          },
          "metadata": {},
          "execution_count": 35
        },
        {
          "output_type": "display_data",
          "data": {
            "text/plain": [
              "<Figure size 432x288 with 1 Axes>"
            ],
            "image/png": "[encoded data removed]"
          },
          "metadata": {
            "needs_background": "light"
          }
        }
      ]
    },
    {
      "cell_type": "code",
      "source": [
        "shutil.rmtree(logdir/'regularizers/Tiny', ignore_errors=True)\n",
        "shutil.copytree(logdir/'sizes/Tiny', logdir/'regularizers/Tiny')"
      ],
      "metadata": {
        "colab": {
          "base_uri": "https://localhost:8080/"
        },
        "id": "XtUkNGn7f3_c",
        "outputId": "ce53ac41-3802-46bc-a46d-1e9baff17df4"
      },
      "execution_count": 36,
      "outputs": [
        {
          "output_type": "execute_result",
          "data": {
            "text/plain": [
              "PosixPath('/tmp/tmpdruv5d5n/tensorboard_logs/regularizers/Tiny')"
            ]
          },
          "metadata": {},
          "execution_count": 36
        }
      ]
    },
    {
      "cell_type": "code",
      "source": [
        "regularizer_histories = {}\n",
        "regularizer_histories['Tiny'] = sizes_histories['Tiny']"
      ],
      "metadata": {
        "id": "NmtHX7_Yf9JG"
      },
      "execution_count": 38,
      "outputs": []
    },
    {
      "cell_type": "code",
      "source": [
        "l2_model = tf.keras.Sequential([\n",
        "    layers.Dense(512, activation='elu',\n",
        "                 kernel_regularizer=regularizers.l2(0.001),\n",
        "                 input_shape=(FEATURES,)),\n",
        "    layers.Dense(512, activation='elu',\n",
        "                 kernel_regularizer=regularizers.l2(0.001)),\n",
        "    layers.Dense(512, activation='elu',\n",
        "                 kernel_regularizer=regularizers.l2(0.001)),\n",
        "    layers.Dense(512, activation='elu',\n",
        "                 kernel_regularizer=regularizers.l2(0.001)),\n",
        "    layers.Dense(1)\n",
        "])\n",
        "\n",
        "regularizer_histories['l2'] = compile_and_fit(l2_model, \"regularizers/l2\")\n"
      ],
      "metadata": {
        "colab": {
          "base_uri": "https://localhost:8080/"
        },
        "id": "Cmye4yAMgFyv",
        "outputId": "692864d4-3394-46ab-d35d-0315fec8dad2"
      },
      "execution_count": 39,
      "outputs": [
        {
          "output_type": "stream",
          "name": "stdout",
          "text": [
            "Model: \"sequential_4\"\n",
            "_________________________________________________________________\n",
            " Layer (type)                Output Shape              Param #   \n",
            "=================================================================\n",
            " dense_14 (Dense)            (None, 512)               14848     \n",
            "                                                                 \n",
            " dense_15 (Dense)            (None, 512)               262656    \n",
            "                                                                 \n",
            " dense_16 (Dense)            (None, 512)               262656    \n",
            "                                                                 \n",
            " dense_17 (Dense)            (None, 512)               262656    \n",
            "                                                                 \n",
            " dense_18 (Dense)            (None, 1)                 513       \n",
            "                                                                 \n",
            "=================================================================\n",
            "Total params: 803,329\n",
            "Trainable params: 803,329\n",
            "Non-trainable params: 0\n",
            "_________________________________________________________________\n",
            "\n",
            "Epoch: 0, accuracy:0.4996,  binary_crossentropy:0.7686,  loss:2.2708,  val_accuracy:0.5210,  val_binary_crossentropy:0.6866,  val_loss:2.0966,  \n",
            "....................................................................................................\n",
            "Epoch: 100, accuracy:0.6585,  binary_crossentropy:0.5976,  loss:0.6223,  val_accuracy:0.6470,  val_binary_crossentropy:0.5825,  val_loss:0.6071,  \n",
            "....................................................................................................\n",
            "Epoch: 200, accuracy:0.6738,  binary_crossentropy:0.5811,  loss:0.6055,  val_accuracy:0.6470,  val_binary_crossentropy:0.5831,  val_loss:0.6075,  \n",
            "....................................................................................................\n",
            "Epoch: 300, accuracy:0.6800,  binary_crossentropy:0.5739,  loss:0.5981,  val_accuracy:0.6600,  val_binary_crossentropy:0.5761,  val_loss:0.6002,  \n",
            "....................................................................................................\n",
            "Epoch: 400, accuracy:0.6902,  binary_crossentropy:0.5646,  loss:0.5902,  val_accuracy:0.6860,  val_binary_crossentropy:0.5748,  val_loss:0.6004,  \n",
            "....................................................................................................\n",
            "Epoch: 500, accuracy:0.7031,  binary_crossentropy:0.5579,  loss:0.5846,  val_accuracy:0.6970,  val_binary_crossentropy:0.5748,  val_loss:0.6015,  \n",
            "......................"
          ]
        }
      ]
    },
    {
      "cell_type": "code",
      "source": [
        "plotter.plot(regularizer_histories)\n",
        "plt.ylim([0.5, 0.7])"
      ],
      "metadata": {
        "colab": {
          "base_uri": "https://localhost:8080/",
          "height": 302
        },
        "id": "3lSkkiTohvSk",
        "outputId": "dfc94cc9-90aa-4a64-b1d4-4ae488dd2463"
      },
      "execution_count": 40,
      "outputs": [
        {
          "output_type": "execute_result",
          "data": {
            "text/plain": [
              "(0.5, 0.7)"
            ]
          },
          "metadata": {},
          "execution_count": 40
        },
        {
          "output_type": "display_data",
          "data": {
            "text/plain": [
              "<Figure size 432x288 with 1 Axes>"
            ],
            "image/png": "[encoded data removed]"
          },
          "metadata": {
            "needs_background": "light"
          }
        }
      ]
    },
    {
      "cell_type": "code",
      "source": [
        "result = l2_model(features)\n",
        "regularization_loss=tf.add_n(l2_model.losses)"
      ],
      "metadata": {
        "id": "3PaEP5atl6Ft"
      },
      "execution_count": 41,
      "outputs": []
    },
    {
      "cell_type": "code",
      "source": [
        "dropout_model = tf.keras.Sequential([\n",
        "    layers.Dense(512, activation='elu', input_shape=(FEATURES,)),\n",
        "    layers.Dropout(0.5),\n",
        "    layers.Dense(512, activation='elu'),\n",
        "    layers.Dropout(0.5),\n",
        "    layers.Dense(512, activation='elu'),\n",
        "    layers.Dropout(0.5),\n",
        "    layers.Dense(512, activation='elu'),\n",
        "    layers.Dropout(0.5),\n",
        "    layers.Dense(1)\n",
        "])\n",
        "\n",
        "regularizer_histories['dropout'] = compile_and_fit(dropout_model, \"regularizers/dropout\")"
      ],
      "metadata": {
        "colab": {
          "base_uri": "https://localhost:8080/"
        },
        "id": "QVb0a9_DmA3_",
        "outputId": "91880bdd-aba0-49a9-fb96-4953960855c9"
      },
      "execution_count": 42,
      "outputs": [
        {
          "output_type": "stream",
          "name": "stdout",
          "text": [
            "Model: \"sequential_5\"\n",
            "_________________________________________________________________\n",
            " Layer (type)                Output Shape              Param #   \n",
            "=================================================================\n",
            " dense_19 (Dense)            (None, 512)               14848     \n",
            "                                                                 \n",
            " dropout (Dropout)           (None, 512)               0         \n",
            "                                                                 \n",
            " dense_20 (Dense)            (None, 512)               262656    \n",
            "                                                                 \n",
            " dropout_1 (Dropout)         (None, 512)               0         \n",
            "                                                                 \n",
            " dense_21 (Dense)            (None, 512)               262656    \n",
            "                                                                 \n",
            " dropout_2 (Dropout)         (None, 512)               0         \n",
            "                                                                 \n",
            " dense_22 (Dense)            (None, 512)               262656    \n",
            "                                                                 \n",
            " dropout_3 (Dropout)         (None, 512)               0         \n",
            "                                                                 \n",
            " dense_23 (Dense)            (None, 1)                 513       \n",
            "                                                                 \n",
            "=================================================================\n",
            "Total params: 803,329\n",
            "Trainable params: 803,329\n",
            "Non-trainable params: 0\n",
            "_________________________________________________________________\n",
            "\n",
            "Epoch: 0, accuracy:0.4912,  binary_crossentropy:0.8104,  loss:0.8104,  val_accuracy:0.5370,  val_binary_crossentropy:0.6879,  val_loss:0.6879,  \n",
            "....................................................................................................\n",
            "Epoch: 100, accuracy:0.6549,  binary_crossentropy:0.5995,  loss:0.5995,  val_accuracy:0.6690,  val_binary_crossentropy:0.5833,  val_loss:0.5833,  \n",
            "....................................................................................................\n",
            "Epoch: 200, accuracy:0.6872,  binary_crossentropy:0.5568,  loss:0.5568,  val_accuracy:0.6960,  val_binary_crossentropy:0.5835,  val_loss:0.5835,  \n",
            "....................................................................................................\n",
            "Epoch: 300, accuracy:0.7188,  binary_crossentropy:0.5126,  loss:0.5126,  val_accuracy:0.6990,  val_binary_crossentropy:0.6119,  val_loss:0.6119,  \n",
            "...................................................................."
          ]
        }
      ]
    },
    {
      "cell_type": "code",
      "source": [
        "plotter.plot(regularizer_histories)\n",
        "plt.ylim([0.5, 0.7])"
      ],
      "metadata": {
        "colab": {
          "base_uri": "https://localhost:8080/",
          "height": 302
        },
        "id": "pPWdUpS8mN6L",
        "outputId": "322ea2ba-0c04-4b56-b8fe-84148495b81a"
      },
      "execution_count": 43,
      "outputs": [
        {
          "output_type": "execute_result",
          "data": {
            "text/plain": [
              "(0.5, 0.7)"
            ]
          },
          "metadata": {},
          "execution_count": 43
        },
        {
          "output_type": "display_data",
          "data": {
            "text/plain": [
              "<Figure size 432x288 with 1 Axes>"
            ],
            "image/png": "[encoded data removed]"
          },
          "metadata": {
            "needs_background": "light"
          }
        }
      ]
    }
  ]
}