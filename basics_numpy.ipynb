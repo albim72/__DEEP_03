{
  "nbformat": 4,
  "nbformat_minor": 0,
  "metadata": {
    "colab": {
      "provenance": [],
      "authorship_tag": "ABX9TyMT6r4iIrZvEZyr/Ke2QokY",
      "include_colab_link": true
    },
    "kernelspec": {
      "name": "python3",
      "display_name": "Python 3"
    },
    "language_info": {
      "name": "python"
    }
  },
  "cells": [
    {
      "cell_type": "markdown",
      "metadata": {
        "id": "view-in-github",
        "colab_type": "text"
      },
      "source": [
        "<a href=\"https://colab.research.google.com/github/albim72/__DEEP_03/blob/main/basics_numpy.ipynb\" target=\"_parent\"><img src=\"https://colab.research.google.com/assets/colab-badge.svg\" alt=\"Open In Colab\"/></a>"
      ]
    },
    {
      "cell_type": "code",
      "execution_count": 1,
      "metadata": {
        "id": "TnPCMjFUmpMV"
      },
      "outputs": [],
      "source": [
        "import numpy as np"
      ]
    },
    {
      "cell_type": "code",
      "source": [
        "nb = [45,6,18,0,-5,78,123,48,90,2,13,177,800,-99,-2,-14,555]"
      ],
      "metadata": {
        "id": "u-1rOqEinBoV"
      },
      "execution_count": 2,
      "outputs": []
    },
    {
      "cell_type": "code",
      "source": [
        "nnb = np.array(nb)\n",
        "nnb"
      ],
      "metadata": {
        "colab": {
          "base_uri": "https://localhost:8080/"
        },
        "id": "g9BpmL6JnNqH",
        "outputId": "507bf412-da90-4ebe-9a9a-2fe50b1b4334"
      },
      "execution_count": 4,
      "outputs": [
        {
          "output_type": "execute_result",
          "data": {
            "text/plain": [
              "array([ 45,   6,  18,   0,  -5,  78, 123,  48,  90,   2,  13, 177, 800,\n",
              "       -99,  -2, -14, 555])"
            ]
          },
          "metadata": {},
          "execution_count": 4
        }
      ]
    },
    {
      "cell_type": "code",
      "source": [
        "nb.sort()\n",
        "nb"
      ],
      "metadata": {
        "colab": {
          "base_uri": "https://localhost:8080/"
        },
        "id": "sXzRq-RNneoh",
        "outputId": "540bc03d-fcec-4a9e-b1ff-b92fd329620e"
      },
      "execution_count": 5,
      "outputs": [
        {
          "output_type": "execute_result",
          "data": {
            "text/plain": [
              "[-99, -14, -5, -2, 0, 2, 6, 13, 18, 45, 48, 78, 90, 123, 177, 555, 800]"
            ]
          },
          "metadata": {},
          "execution_count": 5
        }
      ]
    },
    {
      "cell_type": "code",
      "source": [
        "nnb.sort()\n",
        "nnb"
      ],
      "metadata": {
        "colab": {
          "base_uri": "https://localhost:8080/"
        },
        "id": "WYWxoA0Gnj9w",
        "outputId": "f9d57991-ff6b-4649-cf65-3c46da32ca05"
      },
      "execution_count": 6,
      "outputs": [
        {
          "output_type": "execute_result",
          "data": {
            "text/plain": [
              "array([-99, -14,  -5,  -2,   0,   2,   6,  13,  18,  45,  48,  78,  90,\n",
              "       123, 177, 555, 800])"
            ]
          },
          "metadata": {},
          "execution_count": 6
        }
      ]
    },
    {
      "cell_type": "code",
      "source": [
        "s = [1,6,89,4]\n",
        "d = [23,8,1,67]\n",
        "g = [8,24,56,15]\n",
        "\n",
        "full = s+d+g\n",
        "full"
      ],
      "metadata": {
        "colab": {
          "base_uri": "https://localhost:8080/"
        },
        "id": "JCj9harunveO",
        "outputId": "c1718b44-4f4b-43a9-9004-77c56844fff0"
      },
      "execution_count": 7,
      "outputs": [
        {
          "output_type": "execute_result",
          "data": {
            "text/plain": [
              "[1, 6, 89, 4, 23, 8, 1, 67, 8, 24, 56, 15]"
            ]
          },
          "metadata": {},
          "execution_count": 7
        }
      ]
    },
    {
      "cell_type": "code",
      "source": [
        "snp = np.array(s)\n",
        "dnp = np.array(d)\n",
        "gnp = np.array(g)\n",
        "npsum = snp+dnp+gnp\n",
        "npsum"
      ],
      "metadata": {
        "colab": {
          "base_uri": "https://localhost:8080/"
        },
        "id": "jBZKZVqFoAnl",
        "outputId": "536bd133-07fa-4106-aa96-eac0b4a90add"
      },
      "execution_count": 9,
      "outputs": [
        {
          "output_type": "execute_result",
          "data": {
            "text/plain": [
              "array([ 32,  38, 146,  86])"
            ]
          },
          "metadata": {},
          "execution_count": 9
        }
      ]
    },
    {
      "cell_type": "code",
      "source": [
        "npfull = np.concatenate((snp,dnp,gnp))\n",
        "npfull"
      ],
      "metadata": {
        "colab": {
          "base_uri": "https://localhost:8080/"
        },
        "id": "_JEHkiFBokM8",
        "outputId": "724162fc-3ec0-4d35-b888-ea731ff006c1"
      },
      "execution_count": 11,
      "outputs": [
        {
          "output_type": "execute_result",
          "data": {
            "text/plain": [
              "array([ 1,  6, 89,  4, 23,  8,  1, 67,  8, 24, 56, 15])"
            ]
          },
          "metadata": {},
          "execution_count": 11
        }
      ]
    },
    {
      "cell_type": "code",
      "source": [
        "zx = [[6,8],[33,9]]\n",
        "zx"
      ],
      "metadata": {
        "colab": {
          "base_uri": "https://localhost:8080/"
        },
        "id": "BFbbtVaZo72o",
        "outputId": "e9bba7aa-0a8e-4582-f564-40fa6cd83194"
      },
      "execution_count": 12,
      "outputs": [
        {
          "output_type": "execute_result",
          "data": {
            "text/plain": [
              "[[6, 8], [33, 9]]"
            ]
          },
          "metadata": {},
          "execution_count": 12
        }
      ]
    },
    {
      "cell_type": "code",
      "source": [
        "zx[1][0]"
      ],
      "metadata": {
        "colab": {
          "base_uri": "https://localhost:8080/"
        },
        "id": "xE3EkWXfpOEg",
        "outputId": "a3395d43-520b-49cc-8d6c-9bf14d47d004"
      },
      "execution_count": 15,
      "outputs": [
        {
          "output_type": "execute_result",
          "data": {
            "text/plain": [
              "33"
            ]
          },
          "metadata": {},
          "execution_count": 15
        }
      ]
    },
    {
      "cell_type": "code",
      "source": [
        "x = np.array([[99,3],[19,6]])\n",
        "y = np.array([[100,66],[66,100]])\n",
        "x,y"
      ],
      "metadata": {
        "colab": {
          "base_uri": "https://localhost:8080/"
        },
        "id": "Wx0OHQXspf4q",
        "outputId": "d2540b7f-3ecb-4e20-935d-c50e87901449"
      },
      "execution_count": 20,
      "outputs": [
        {
          "output_type": "execute_result",
          "data": {
            "text/plain": [
              "(array([[99,  3],\n",
              "        [19,  6]]), array([[100,  66],\n",
              "        [ 66, 100]]))"
            ]
          },
          "metadata": {},
          "execution_count": 20
        }
      ]
    },
    {
      "cell_type": "code",
      "source": [
        "x[0,1]"
      ],
      "metadata": {
        "colab": {
          "base_uri": "https://localhost:8080/"
        },
        "id": "VTAmY725pxLZ",
        "outputId": "dee8b2bf-e431-448e-ae32-ac710a3b03bd"
      },
      "execution_count": 21,
      "outputs": [
        {
          "output_type": "execute_result",
          "data": {
            "text/plain": [
              "3"
            ]
          },
          "metadata": {},
          "execution_count": 21
        }
      ]
    },
    {
      "cell_type": "code",
      "source": [
        "x[0][1]"
      ],
      "metadata": {
        "colab": {
          "base_uri": "https://localhost:8080/"
        },
        "id": "X9Amd64Ap1Y1",
        "outputId": "50bf1346-c3e1-4173-b334-8dec61b7a014"
      },
      "execution_count": 22,
      "outputs": [
        {
          "output_type": "execute_result",
          "data": {
            "text/plain": [
              "3"
            ]
          },
          "metadata": {},
          "execution_count": 22
        }
      ]
    },
    {
      "cell_type": "code",
      "source": [
        "p = np.concatenate((x,y),axis=0)\n",
        "p"
      ],
      "metadata": {
        "colab": {
          "base_uri": "https://localhost:8080/"
        },
        "id": "Eyx_mAeIp-rx",
        "outputId": "ce33837c-d607-45a3-bcc9-99c34ca4e883"
      },
      "execution_count": 25,
      "outputs": [
        {
          "output_type": "execute_result",
          "data": {
            "text/plain": [
              "array([[ 99,   3],\n",
              "       [ 19,   6],\n",
              "       [100,  66],\n",
              "       [ 66, 100]])"
            ]
          },
          "metadata": {},
          "execution_count": 25
        }
      ]
    },
    {
      "cell_type": "code",
      "source": [
        "prosta = np.arange(12)\n",
        "prosta"
      ],
      "metadata": {
        "colab": {
          "base_uri": "https://localhost:8080/"
        },
        "id": "PehxS9oEqlwq",
        "outputId": "af0bc265-a10d-4e81-96dc-549ff06b90a8"
      },
      "execution_count": 26,
      "outputs": [
        {
          "output_type": "execute_result",
          "data": {
            "text/plain": [
              "array([ 0,  1,  2,  3,  4,  5,  6,  7,  8,  9, 10, 11])"
            ]
          },
          "metadata": {},
          "execution_count": 26
        }
      ]
    },
    {
      "cell_type": "code",
      "source": [
        "pp = prosta.reshape(3,4)\n",
        "pp"
      ],
      "metadata": {
        "colab": {
          "base_uri": "https://localhost:8080/"
        },
        "id": "pm2TDGQBqvTC",
        "outputId": "b7d5aad9-3de7-49b2-92fc-65b72125ec4d"
      },
      "execution_count": 32,
      "outputs": [
        {
          "output_type": "execute_result",
          "data": {
            "text/plain": [
              "array([[ 0,  1,  2,  3],\n",
              "       [ 4,  5,  6,  7],\n",
              "       [ 8,  9, 10, 11]])"
            ]
          },
          "metadata": {},
          "execution_count": 32
        }
      ]
    },
    {
      "cell_type": "code",
      "source": [
        "pp.shape"
      ],
      "metadata": {
        "colab": {
          "base_uri": "https://localhost:8080/"
        },
        "id": "OLnGEhNsrMwp",
        "outputId": "afee67cd-0cb6-44f1-bd8f-56cf9cc6ac71"
      },
      "execution_count": 33,
      "outputs": [
        {
          "output_type": "execute_result",
          "data": {
            "text/plain": [
              "(3, 4)"
            ]
          },
          "metadata": {},
          "execution_count": 33
        }
      ]
    }
  ]
}