{
 "cells":[
  {
   "cell_type":"code",
   "source":[
    "import pandas as pd\n",
    "from pandas import Series,DataFrame\n",
    "import numpy as np\n",
    "import matplotlib.pyplot as plt"
   ],
   "execution_count":1,
   "outputs":[
    
   ],
   "metadata":{
    "datalore":{
     "node_id":"tveXACRpeWSyfwTzslVyi7",
     "type":"CODE",
     "hide_input_from_viewers":false,
     "hide_output_from_viewers":false
    }
   }
  },
  {
   "cell_type":"code",
   "source":[
    "obj = pd.Series([4,7,-9,3])\n",
    "obj"
   ],
   "execution_count":3,
   "outputs":[
    {
     "data":{
      "text\/html":[
       "<pre>0    4\n",
       "1    7\n",
       "2   -9\n",
       "3    3\n",
       "dtype: int64<\/pre>"
      ]
     },
     "metadata":{
      
     },
     "output_type":"display_data"
    }
   ],
   "metadata":{
    "datalore":{
     "node_id":"8yXphmRcwmWFLKpwfiL0Hv",
     "type":"CODE",
     "hide_input_from_viewers":false,
     "hide_output_from_viewers":false
    }
   }
  },
  {
   "cell_type":"code",
   "source":[
    "obj.values"
   ],
   "execution_count":4,
   "outputs":[
    {
     "data":{
      "text\/html":[
       "<pre>array([ 4,  7, -9,  3])<\/pre>"
      ]
     },
     "metadata":{
      
     },
     "output_type":"display_data"
    }
   ],
   "metadata":{
    "datalore":{
     "node_id":"gNjbYiGHzrrzRTS0eeEvlN",
     "type":"CODE",
     "hide_input_from_viewers":false,
     "hide_output_from_viewers":false
    }
   }
  },
  {
   "cell_type":"code",
   "source":[
    "obj.index"
   ],
   "execution_count":5,
   "outputs":[
    {
     "data":{
      "text\/plain":[
       "RangeIndex(start=0, stop=4, step=1)"
      ]
     },
     "metadata":{
      
     },
     "output_type":"display_data"
    }
   ],
   "metadata":{
    "datalore":{
     "node_id":"VRRWH3KDeChxuEbj0gfoow",
     "type":"CODE",
     "hide_input_from_viewers":false,
     "hide_output_from_viewers":false
    }
   }
  },
  {
   "cell_type":"code",
   "source":[
    "obj2 = pd.Series([45,6,8,9,12,34,6], index=['a','b','c','d','x','y','z'])\n",
    "obj2"
   ],
   "execution_count":6,
   "outputs":[
    {
     "data":{
      "text\/html":[
       "<pre>a    45\n",
       "b     6\n",
       "c     8\n",
       "d     9\n",
       "x    12\n",
       "y    34\n",
       "z     6\n",
       "dtype: int64<\/pre>"
      ]
     },
     "metadata":{
      
     },
     "output_type":"display_data"
    }
   ],
   "metadata":{
    "datalore":{
     "node_id":"330ZIh88LBQjlrB5RtGCOL",
     "type":"CODE",
     "hide_input_from_viewers":false,
     "hide_output_from_viewers":false
    }
   }
  },
  {
   "cell_type":"code",
   "source":[
    "obj2['z']"
   ],
   "execution_count":7,
   "outputs":[
    {
     "data":{
      "text\/plain":[
       "6"
      ]
     },
     "metadata":{
      
     },
     "output_type":"display_data"
    }
   ],
   "metadata":{
    "datalore":{
     "node_id":"GaUWuDPL9QkvQPFY5Vk73n",
     "type":"CODE",
     "hide_input_from_viewers":false,
     "hide_output_from_viewers":false
    }
   }
  },
  {
   "cell_type":"code",
   "source":[
    "obj2['a']=1001\n",
    "obj2"
   ],
   "execution_count":8,
   "outputs":[
    {
     "data":{
      "text\/html":[
       "<pre>a    1001\n",
       "b       6\n",
       "c       8\n",
       "d       9\n",
       "x      12\n",
       "y      34\n",
       "z       6\n",
       "dtype: int64<\/pre>"
      ]
     },
     "metadata":{
      
     },
     "output_type":"display_data"
    }
   ],
   "metadata":{
    "datalore":{
     "node_id":"xmYe4IbEmRxv0owsHaLKSD",
     "type":"CODE",
     "hide_input_from_viewers":false,
     "hide_output_from_viewers":false
    }
   }
  },
  {
   "cell_type":"code",
   "source":[
    "obj2[obj2>10]"
   ],
   "execution_count":9,
   "outputs":[
    {
     "data":{
      "text\/html":[
       "<pre>a    1001\n",
       "x      12\n",
       "y      34\n",
       "dtype: int64<\/pre>"
      ]
     },
     "metadata":{
      
     },
     "output_type":"display_data"
    }
   ],
   "metadata":{
    "datalore":{
     "node_id":"eV0mcylj8FHIqr8mHDzd1w",
     "type":"CODE",
     "hide_input_from_viewers":false,
     "hide_output_from_viewers":false
    }
   }
  },
  {
   "cell_type":"code",
   "source":[
    "sdata = {'Warszawa':45120,'Kraków':38970,'Lublin':31200,'Gdańsk':32450}\n",
    "obj3 = pd.Series(sdata)\n",
    "obj3"
   ],
   "execution_count":10,
   "outputs":[
    {
     "data":{
      "text\/html":[
       "<pre>Warszawa    45120\n",
       "Kraków      38970\n",
       "Lublin      31200\n",
       "Gdańsk      32450\n",
       "dtype: int64<\/pre>"
      ]
     },
     "metadata":{
      
     },
     "output_type":"display_data"
    }
   ],
   "metadata":{
    "datalore":{
     "node_id":"yJli5KqXZCzbqeMKJccLlf",
     "type":"CODE",
     "hide_input_from_viewers":false,
     "hide_output_from_viewers":false
    }
   }
  },
  {
   "cell_type":"code",
   "source":[
    "miasta = ['Poznań','Kraków','Rzeszów','Gdańsk']\n",
    "obj4 = pd.Series(sdata,index=miasta)\n",
    "obj4"
   ],
   "execution_count":11,
   "outputs":[
    {
     "data":{
      "text\/html":[
       "<pre>Poznań         NaN\n",
       "Kraków     38970.0\n",
       "Rzeszów        NaN\n",
       "Gdańsk     32450.0\n",
       "dtype: float64<\/pre>"
      ]
     },
     "metadata":{
      
     },
     "output_type":"display_data"
    }
   ],
   "metadata":{
    "datalore":{
     "node_id":"uj8nvTRFfnET3b5eEuRys8",
     "type":"CODE",
     "hide_input_from_viewers":false,
     "hide_output_from_viewers":false
    }
   }
  },
  {
   "cell_type":"code",
   "source":[
    "data = {'miasto':['Warszawa','Warszawa','Warszawa','Kraków','Kraków','Kraków'],\n",
    "        'rok':[2017,2018,2019,2018,2019,2020],\n",
    "        'pop':[2.7,2.75,3.05,0.85,0.9,1.01]}\n",
    "frame = pd.DataFrame(data)\n",
    "frame"
   ],
   "execution_count":12,
   "outputs":[
    {
     "data":{
      "text\/html":[
       "<div>\n",
       "<style scoped>\n",
       "    .dataframe tbody tr th:only-of-type {\n",
       "        vertical-align: middle;\n",
       "    }\n",
       "\n",
       "    .dataframe tbody tr th {\n",
       "        vertical-align: top;\n",
       "    }\n",
       "\n",
       "    .dataframe thead th {\n",
       "        text-align: right;\n",
       "    }\n",
       "<\/style>\n",
       "<table border=\"1\" class=\"dataframe\">\n",
       "  <thead>\n",
       "    <tr style=\"text-align: right;\">\n",
       "      <th><\/th>\n",
       "      <th>miasto<\/th>\n",
       "      <th>rok<\/th>\n",
       "      <th>pop<\/th>\n",
       "    <\/tr>\n",
       "  <\/thead>\n",
       "  <tbody>\n",
       "    <tr>\n",
       "      <th>0<\/th>\n",
       "      <td>Warszawa<\/td>\n",
       "      <td>2017<\/td>\n",
       "      <td>2.70<\/td>\n",
       "    <\/tr>\n",
       "    <tr>\n",
       "      <th>1<\/th>\n",
       "      <td>Warszawa<\/td>\n",
       "      <td>2018<\/td>\n",
       "      <td>2.75<\/td>\n",
       "    <\/tr>\n",
       "    <tr>\n",
       "      <th>2<\/th>\n",
       "      <td>Warszawa<\/td>\n",
       "      <td>2019<\/td>\n",
       "      <td>3.05<\/td>\n",
       "    <\/tr>\n",
       "    <tr>\n",
       "      <th>3<\/th>\n",
       "      <td>Kraków<\/td>\n",
       "      <td>2018<\/td>\n",
       "      <td>0.85<\/td>\n",
       "    <\/tr>\n",
       "    <tr>\n",
       "      <th>4<\/th>\n",
       "      <td>Kraków<\/td>\n",
       "      <td>2019<\/td>\n",
       "      <td>0.90<\/td>\n",
       "    <\/tr>\n",
       "    <tr>\n",
       "      <th>5<\/th>\n",
       "      <td>Kraków<\/td>\n",
       "      <td>2020<\/td>\n",
       "      <td>1.01<\/td>\n",
       "    <\/tr>\n",
       "  <\/tbody>\n",
       "<\/table>\n",
       "<\/div>"
      ]
     },
     "metadata":{
      
     },
     "output_type":"display_data"
    }
   ],
   "metadata":{
    "datalore":{
     "node_id":"gwWjQj9KsC1e9GEoNxtoYY",
     "type":"CODE",
     "hide_input_from_viewers":false,
     "hide_output_from_viewers":false
    }
   }
  },
  {
   "cell_type":"code",
   "source":[
    "frame2 = pd.DataFrame(data,columns=['rok','miasto','pop','wsp'], index=['jeden','dwa','trzy','cztery','pięć','sześć'])\n",
    "frame2"
   ],
   "execution_count":13,
   "outputs":[
    {
     "data":{
      "text\/html":[
       "<div>\n",
       "<style scoped>\n",
       "    .dataframe tbody tr th:only-of-type {\n",
       "        vertical-align: middle;\n",
       "    }\n",
       "\n",
       "    .dataframe tbody tr th {\n",
       "        vertical-align: top;\n",
       "    }\n",
       "\n",
       "    .dataframe thead th {\n",
       "        text-align: right;\n",
       "    }\n",
       "<\/style>\n",
       "<table border=\"1\" class=\"dataframe\">\n",
       "  <thead>\n",
       "    <tr style=\"text-align: right;\">\n",
       "      <th><\/th>\n",
       "      <th>rok<\/th>\n",
       "      <th>miasto<\/th>\n",
       "      <th>pop<\/th>\n",
       "      <th>wsp<\/th>\n",
       "    <\/tr>\n",
       "  <\/thead>\n",
       "  <tbody>\n",
       "    <tr>\n",
       "      <th>jeden<\/th>\n",
       "      <td>2017<\/td>\n",
       "      <td>Warszawa<\/td>\n",
       "      <td>2.70<\/td>\n",
       "      <td>NaN<\/td>\n",
       "    <\/tr>\n",
       "    <tr>\n",
       "      <th>dwa<\/th>\n",
       "      <td>2018<\/td>\n",
       "      <td>Warszawa<\/td>\n",
       "      <td>2.75<\/td>\n",
       "      <td>NaN<\/td>\n",
       "    <\/tr>\n",
       "    <tr>\n",
       "      <th>trzy<\/th>\n",
       "      <td>2019<\/td>\n",
       "      <td>Warszawa<\/td>\n",
       "      <td>3.05<\/td>\n",
       "      <td>NaN<\/td>\n",
       "    <\/tr>\n",
       "    <tr>\n",
       "      <th>cztery<\/th>\n",
       "      <td>2018<\/td>\n",
       "      <td>Kraków<\/td>\n",
       "      <td>0.85<\/td>\n",
       "      <td>NaN<\/td>\n",
       "    <\/tr>\n",
       "    <tr>\n",
       "      <th>pięć<\/th>\n",
       "      <td>2019<\/td>\n",
       "      <td>Kraków<\/td>\n",
       "      <td>0.90<\/td>\n",
       "      <td>NaN<\/td>\n",
       "    <\/tr>\n",
       "    <tr>\n",
       "      <th>sześć<\/th>\n",
       "      <td>2020<\/td>\n",
       "      <td>Kraków<\/td>\n",
       "      <td>1.01<\/td>\n",
       "      <td>NaN<\/td>\n",
       "    <\/tr>\n",
       "  <\/tbody>\n",
       "<\/table>\n",
       "<\/div>"
      ]
     },
     "metadata":{
      
     },
     "output_type":"display_data"
    }
   ],
   "metadata":{
    "datalore":{
     "node_id":"CwrTtHApRuSkT3m4HFmxeE",
     "type":"CODE",
     "hide_input_from_viewers":false,
     "hide_output_from_viewers":false
    }
   }
  },
  {
   "cell_type":"code",
   "source":[
    "frame2['miasto']"
   ],
   "execution_count":14,
   "outputs":[
    {
     "data":{
      "text\/html":[
       "<pre>jeden     Warszawa\n",
       "dwa       Warszawa\n",
       "trzy      Warszawa\n",
       "cztery      Kraków\n",
       "pięć        Kraków\n",
       "sześć       Kraków\n",
       "Name: miasto, dtype: object<\/pre>"
      ]
     },
     "metadata":{
      
     },
     "output_type":"display_data"
    }
   ],
   "metadata":{
    "datalore":{
     "node_id":"SdeAel3AAal6hgS1t01KZy",
     "type":"CODE",
     "hide_input_from_viewers":false,
     "hide_output_from_viewers":false
    }
   }
  },
  {
   "cell_type":"code",
   "source":[
    "frame2['wsp']=19.99\n",
    "frame2"
   ],
   "execution_count":15,
   "outputs":[
    {
     "data":{
      "text\/html":[
       "<div>\n",
       "<style scoped>\n",
       "    .dataframe tbody tr th:only-of-type {\n",
       "        vertical-align: middle;\n",
       "    }\n",
       "\n",
       "    .dataframe tbody tr th {\n",
       "        vertical-align: top;\n",
       "    }\n",
       "\n",
       "    .dataframe thead th {\n",
       "        text-align: right;\n",
       "    }\n",
       "<\/style>\n",
       "<table border=\"1\" class=\"dataframe\">\n",
       "  <thead>\n",
       "    <tr style=\"text-align: right;\">\n",
       "      <th><\/th>\n",
       "      <th>rok<\/th>\n",
       "      <th>miasto<\/th>\n",
       "      <th>pop<\/th>\n",
       "      <th>wsp<\/th>\n",
       "    <\/tr>\n",
       "  <\/thead>\n",
       "  <tbody>\n",
       "    <tr>\n",
       "      <th>jeden<\/th>\n",
       "      <td>2017<\/td>\n",
       "      <td>Warszawa<\/td>\n",
       "      <td>2.70<\/td>\n",
       "      <td>19.99<\/td>\n",
       "    <\/tr>\n",
       "    <tr>\n",
       "      <th>dwa<\/th>\n",
       "      <td>2018<\/td>\n",
       "      <td>Warszawa<\/td>\n",
       "      <td>2.75<\/td>\n",
       "      <td>19.99<\/td>\n",
       "    <\/tr>\n",
       "    <tr>\n",
       "      <th>trzy<\/th>\n",
       "      <td>2019<\/td>\n",
       "      <td>Warszawa<\/td>\n",
       "      <td>3.05<\/td>\n",
       "      <td>19.99<\/td>\n",
       "    <\/tr>\n",
       "    <tr>\n",
       "      <th>cztery<\/th>\n",
       "      <td>2018<\/td>\n",
       "      <td>Kraków<\/td>\n",
       "      <td>0.85<\/td>\n",
       "      <td>19.99<\/td>\n",
       "    <\/tr>\n",
       "    <tr>\n",
       "      <th>pięć<\/th>\n",
       "      <td>2019<\/td>\n",
       "      <td>Kraków<\/td>\n",
       "      <td>0.90<\/td>\n",
       "      <td>19.99<\/td>\n",
       "    <\/tr>\n",
       "    <tr>\n",
       "      <th>sześć<\/th>\n",
       "      <td>2020<\/td>\n",
       "      <td>Kraków<\/td>\n",
       "      <td>1.01<\/td>\n",
       "      <td>19.99<\/td>\n",
       "    <\/tr>\n",
       "  <\/tbody>\n",
       "<\/table>\n",
       "<\/div>"
      ]
     },
     "metadata":{
      
     },
     "output_type":"display_data"
    }
   ],
   "metadata":{
    "datalore":{
     "node_id":"bsKBlTUNxzICgA0KXJRNTF",
     "type":"CODE",
     "hide_input_from_viewers":false,
     "hide_output_from_viewers":false
    }
   }
  },
  {
   "cell_type":"code",
   "source":[
    "frame2['wsp']=np.arange(6.)\n",
    "frame2"
   ],
   "execution_count":16,
   "outputs":[
    {
     "data":{
      "text\/html":[
       "<div>\n",
       "<style scoped>\n",
       "    .dataframe tbody tr th:only-of-type {\n",
       "        vertical-align: middle;\n",
       "    }\n",
       "\n",
       "    .dataframe tbody tr th {\n",
       "        vertical-align: top;\n",
       "    }\n",
       "\n",
       "    .dataframe thead th {\n",
       "        text-align: right;\n",
       "    }\n",
       "<\/style>\n",
       "<table border=\"1\" class=\"dataframe\">\n",
       "  <thead>\n",
       "    <tr style=\"text-align: right;\">\n",
       "      <th><\/th>\n",
       "      <th>rok<\/th>\n",
       "      <th>miasto<\/th>\n",
       "      <th>pop<\/th>\n",
       "      <th>wsp<\/th>\n",
       "    <\/tr>\n",
       "  <\/thead>\n",
       "  <tbody>\n",
       "    <tr>\n",
       "      <th>jeden<\/th>\n",
       "      <td>2017<\/td>\n",
       "      <td>Warszawa<\/td>\n",
       "      <td>2.70<\/td>\n",
       "      <td>0.0<\/td>\n",
       "    <\/tr>\n",
       "    <tr>\n",
       "      <th>dwa<\/th>\n",
       "      <td>2018<\/td>\n",
       "      <td>Warszawa<\/td>\n",
       "      <td>2.75<\/td>\n",
       "      <td>1.0<\/td>\n",
       "    <\/tr>\n",
       "    <tr>\n",
       "      <th>trzy<\/th>\n",
       "      <td>2019<\/td>\n",
       "      <td>Warszawa<\/td>\n",
       "      <td>3.05<\/td>\n",
       "      <td>2.0<\/td>\n",
       "    <\/tr>\n",
       "    <tr>\n",
       "      <th>cztery<\/th>\n",
       "      <td>2018<\/td>\n",
       "      <td>Kraków<\/td>\n",
       "      <td>0.85<\/td>\n",
       "      <td>3.0<\/td>\n",
       "    <\/tr>\n",
       "    <tr>\n",
       "      <th>pięć<\/th>\n",
       "      <td>2019<\/td>\n",
       "      <td>Kraków<\/td>\n",
       "      <td>0.90<\/td>\n",
       "      <td>4.0<\/td>\n",
       "    <\/tr>\n",
       "    <tr>\n",
       "      <th>sześć<\/th>\n",
       "      <td>2020<\/td>\n",
       "      <td>Kraków<\/td>\n",
       "      <td>1.01<\/td>\n",
       "      <td>5.0<\/td>\n",
       "    <\/tr>\n",
       "  <\/tbody>\n",
       "<\/table>\n",
       "<\/div>"
      ]
     },
     "metadata":{
      
     },
     "output_type":"display_data"
    }
   ],
   "metadata":{
    "datalore":{
     "node_id":"Z0zFBj6htOQaixTptHz1nA",
     "type":"CODE",
     "hide_input_from_viewers":false,
     "hide_output_from_viewers":false
    }
   }
  },
  {
   "cell_type":"code",
   "source":[
    "daty = pd.date_range(\"20230313\",periods=6)\n",
    "daty"
   ],
   "execution_count":20,
   "outputs":[
    {
     "data":{
      "text\/plain":[
       "DatetimeIndex(['2023-03-13', '2023-03-14', '2023-03-15', '2023-03-16',\n",
       "               '2023-03-17', '2023-03-18'],\n",
       "              dtype='datetime64[ns]', freq='D')"
      ]
     },
     "metadata":{
      
     },
     "output_type":"display_data"
    }
   ],
   "metadata":{
    "datalore":{
     "node_id":"SWOttJ66vX5hS7k5LRUCFA",
     "type":"CODE",
     "hide_input_from_viewers":false,
     "hide_output_from_viewers":false
    }
   }
  },
  {
   "cell_type":"code",
   "source":[
    "fr = pd.DataFrame(np.random.randn(6,4),index=daty,columns=list(\"ABCD\"))\n",
    "fr"
   ],
   "execution_count":23,
   "outputs":[
    {
     "data":{
      "text\/html":[
       "<div>\n",
       "<style scoped>\n",
       "    .dataframe tbody tr th:only-of-type {\n",
       "        vertical-align: middle;\n",
       "    }\n",
       "\n",
       "    .dataframe tbody tr th {\n",
       "        vertical-align: top;\n",
       "    }\n",
       "\n",
       "    .dataframe thead th {\n",
       "        text-align: right;\n",
       "    }\n",
       "<\/style>\n",
       "<table border=\"1\" class=\"dataframe\">\n",
       "  <thead>\n",
       "    <tr style=\"text-align: right;\">\n",
       "      <th><\/th>\n",
       "      <th>A<\/th>\n",
       "      <th>B<\/th>\n",
       "      <th>C<\/th>\n",
       "      <th>D<\/th>\n",
       "    <\/tr>\n",
       "  <\/thead>\n",
       "  <tbody>\n",
       "    <tr>\n",
       "      <th>2023-03-13<\/th>\n",
       "      <td>2.115882<\/td>\n",
       "      <td>-0.169370<\/td>\n",
       "      <td>0.167803<\/td>\n",
       "      <td>2.113837<\/td>\n",
       "    <\/tr>\n",
       "    <tr>\n",
       "      <th>2023-03-14<\/th>\n",
       "      <td>0.495074<\/td>\n",
       "      <td>1.141506<\/td>\n",
       "      <td>-1.350587<\/td>\n",
       "      <td>1.116848<\/td>\n",
       "    <\/tr>\n",
       "    <tr>\n",
       "      <th>2023-03-15<\/th>\n",
       "      <td>1.395836<\/td>\n",
       "      <td>0.859419<\/td>\n",
       "      <td>0.307143<\/td>\n",
       "      <td>0.190626<\/td>\n",
       "    <\/tr>\n",
       "    <tr>\n",
       "      <th>2023-03-16<\/th>\n",
       "      <td>-0.727279<\/td>\n",
       "      <td>-0.037409<\/td>\n",
       "      <td>-1.064361<\/td>\n",
       "      <td>0.392433<\/td>\n",
       "    <\/tr>\n",
       "    <tr>\n",
       "      <th>2023-03-17<\/th>\n",
       "      <td>-0.919554<\/td>\n",
       "      <td>0.928523<\/td>\n",
       "      <td>-1.038339<\/td>\n",
       "      <td>-0.818764<\/td>\n",
       "    <\/tr>\n",
       "    <tr>\n",
       "      <th>2023-03-18<\/th>\n",
       "      <td>0.439678<\/td>\n",
       "      <td>0.085555<\/td>\n",
       "      <td>-0.207598<\/td>\n",
       "      <td>-1.282860<\/td>\n",
       "    <\/tr>\n",
       "  <\/tbody>\n",
       "<\/table>\n",
       "<\/div>"
      ]
     },
     "metadata":{
      
     },
     "output_type":"display_data"
    }
   ],
   "metadata":{
    "datalore":{
     "node_id":"Oc0lvqwclqSaEhNclFKJaj",
     "type":"CODE",
     "hide_input_from_viewers":false,
     "hide_output_from_viewers":false
    }
   }
  }
 ],
 "metadata":{
  "kernelspec":{
   "display_name":"Python",
   "language":"python",
   "name":"python"
  },
  "datalore":{
   "version":1,
   "computation_mode":"JUPYTER",
   "package_manager":"pip",
   "base_environment":"default",
   "packages":[
    
   ]
  }
 },
 "nbformat":4,
 "nbformat_minor":4
}